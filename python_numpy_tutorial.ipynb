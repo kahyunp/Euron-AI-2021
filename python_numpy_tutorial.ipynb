{
  "nbformat": 4,
  "nbformat_minor": 0,
  "metadata": {
    "colab": {
      "name": "python-numpy-tutorial.ipynb",
      "private_outputs": true,
      "provenance": []
    },
    "kernelspec": {
      "name": "python3",
      "display_name": "Python 3"
    },
    "language_info": {
      "name": "python"
    }
  },
  "cells": [
    {
      "cell_type": "code",
      "metadata": {
        "id": "y09ho2fab4PC"
      },
      "source": [
        "x = 3\n",
        "print(type(x)) \n",
        "print(x)       \n",
        "print(x + 1)  \n",
        "print(x - 1)  \n",
        "print(x * 2)   \n",
        "print(x ** 2)  \n",
        "x += 1\n",
        "print(x) \n",
        "x *= 2\n",
        "print(x)  \n",
        "y = 2.5\n",
        "print(type(y)) \n",
        "print(y, y + 1, y * 2, y ** 2)"
      ],
      "execution_count": null,
      "outputs": []
    },
    {
      "cell_type": "code",
      "metadata": {
        "id": "SnZdCRcvb9YB"
      },
      "source": [
        "t = True\n",
        "f = False\n",
        "print(type(t))\n",
        "print(t and f) \n",
        "print(t or f)  \n",
        "print(not t)   \n",
        "print(t != f) "
      ],
      "execution_count": null,
      "outputs": []
    },
    {
      "cell_type": "code",
      "metadata": {
        "id": "XVdCGIGacF24"
      },
      "source": [
        "hello = 'hello'    \n",
        "world = \"world\"    \n",
        "print(hello)       \n",
        "print(len(hello)) \n",
        "hw = hello + ' ' + world \n",
        "print(hw)  \n",
        "hw12 = '%s %s %d' % (hello, world, 12)  \n",
        "print(hw12)  "
      ],
      "execution_count": null,
      "outputs": []
    },
    {
      "cell_type": "code",
      "metadata": {
        "id": "P-0wXdvUcIJC"
      },
      "source": [
        "xs = [3, 1, 2]    \n",
        "print(xs, xs[2])\n",
        "print(xs[-1])    \n",
        "xs[2] = 'foo'   \n",
        "print(xs)        \n",
        "xs.append('bar') \n",
        "print(xs)        \n",
        "x = xs.pop()    \n",
        "print(x, xs)   "
      ],
      "execution_count": null,
      "outputs": []
    },
    {
      "cell_type": "code",
      "metadata": {
        "id": "0ooh5uHDcM1C"
      },
      "source": [
        "nums = list(range(5))   \n",
        "print(nums)              \n",
        "print(nums[2:4])         \n",
        "print(nums[2:])         \n",
        "print(nums[:2])         \n",
        "print(nums[:])          \n",
        "print(nums[:-1])        \n",
        "nums[2:4] = [8, 9]      \n",
        "print(nums)             "
      ],
      "execution_count": null,
      "outputs": []
    },
    {
      "cell_type": "code",
      "metadata": {
        "id": "y2qsTBCMcO9z"
      },
      "source": [
        "animals = ['cat', 'dog', 'monkey']\n",
        "for animal in animals:\n",
        "    print(animal)"
      ],
      "execution_count": null,
      "outputs": []
    },
    {
      "cell_type": "code",
      "metadata": {
        "id": "oIbLZ7IKcRd7"
      },
      "source": [
        "animals = ['cat', 'dog', 'monkey']\n",
        "for idx, animal in enumerate(animals):\n",
        "    print('#%d: %s' % (idx + 1, animal))\n"
      ],
      "execution_count": null,
      "outputs": []
    },
    {
      "cell_type": "code",
      "metadata": {
        "id": "shWCOag9cS1x"
      },
      "source": [
        "nums = [0, 1, 2, 3, 4]\n",
        "squares = []\n",
        "for x in nums:\n",
        "    squares.append(x ** 2)\n",
        "print(squares)  "
      ],
      "execution_count": null,
      "outputs": []
    },
    {
      "cell_type": "code",
      "metadata": {
        "id": "3iRqpsx9cUZ1"
      },
      "source": [
        "nums = [0, 1, 2, 3, 4]\n",
        "squares = [x ** 2 for x in nums]\n",
        "print(squares)  "
      ],
      "execution_count": null,
      "outputs": []
    },
    {
      "cell_type": "code",
      "metadata": {
        "id": "zyuH9B8ocWJz"
      },
      "source": [
        "nums = [0, 1, 2, 3, 4]\n",
        "even_squares = [x ** 2 for x in nums if x % 2 == 0]\n",
        "print(even_squares) "
      ],
      "execution_count": null,
      "outputs": []
    },
    {
      "cell_type": "code",
      "metadata": {
        "id": "9QmEhjrTcYFg"
      },
      "source": [
        "d = {'cat': 'cute', 'dog': 'furry'} \n",
        "print(d['cat'])      \n",
        "print('cat' in d)     \n",
        "d['fish'] = 'wet'    \n",
        "print(d.get('monkey', 'N/A')) \n",
        "print(d.get('fish', 'N/A'))    \n",
        "del d['fish']        \n",
        "print(d.get('fish', 'N/A')) "
      ],
      "execution_count": null,
      "outputs": []
    },
    {
      "cell_type": "code",
      "metadata": {
        "id": "8pARiN_vcaEF"
      },
      "source": [
        "d = {'person': 2, 'cat': 4, 'spider': 8}\n",
        "for animal in d:\n",
        "    legs = d[animal]\n",
        "    print('A %s has %d legs' % (animal, legs))\n"
      ],
      "execution_count": null,
      "outputs": []
    },
    {
      "cell_type": "code",
      "metadata": {
        "id": "R4EGAvLDccCr"
      },
      "source": [
        "nums = [0, 1, 2, 3, 4]\n",
        "even_num_to_square = {x: x ** 2 for x in nums if x % 2 == 0}\n",
        "print(even_num_to_square) "
      ],
      "execution_count": null,
      "outputs": []
    },
    {
      "cell_type": "code",
      "metadata": {
        "id": "I702M_T8FZo-"
      },
      "source": [
        "animals = {'cat', 'dog'}\n",
        "print('cat' in animals)   \n",
        "print('fish' in animals) \n",
        "animals.add('fish')      \n",
        "print('fish' in animals)  \n",
        "print(len(animals))      \n",
        "animals.add('cat')       \n",
        "print(len(animals))      \n",
        "animals.remove('cat')   \n",
        "print(len(animals))      "
      ],
      "execution_count": null,
      "outputs": []
    },
    {
      "cell_type": "code",
      "metadata": {
        "id": "ouQsdyfwFeK3"
      },
      "source": [
        "animals = {'cat', 'dog', 'fish'}\n",
        "for idx, animal in enumerate(animals):\n",
        "    print('#%d: %s' % (idx + 1, animal))"
      ],
      "execution_count": null,
      "outputs": []
    },
    {
      "cell_type": "code",
      "metadata": {
        "id": "agDTPD5iFgIv"
      },
      "source": [
        "from math import sqrt\n",
        "nums = {int(sqrt(x)) for x in range(30)}\n",
        "print(nums)\n"
      ],
      "execution_count": null,
      "outputs": []
    },
    {
      "cell_type": "code",
      "metadata": {
        "id": "nZt_tHAdFjjo"
      },
      "source": [
        "d = {(x, x + 1): x for x in range(10)}  \n",
        "t = (5, 6)       \n",
        "print(type(t))   \n",
        "print(d[t])      \n",
        "print(d[(1, 2)])"
      ],
      "execution_count": null,
      "outputs": []
    },
    {
      "cell_type": "code",
      "metadata": {
        "id": "qIBIv9oVFlqd"
      },
      "source": [
        "def sign(x):\n",
        "    if x > 0:\n",
        "        return 'positive'\n",
        "    elif x < 0:\n",
        "        return 'negative'\n",
        "    else:\n",
        "        return 'zero'\n",
        "\n",
        "for x in [-1, 0, 1]:\n",
        "    print(sign(x))"
      ],
      "execution_count": null,
      "outputs": []
    },
    {
      "cell_type": "code",
      "metadata": {
        "id": "kB6d9JfAFnh8"
      },
      "source": [
        "def hello(name, loud=False):\n",
        "    if loud:\n",
        "        print('HELLO, %s!' % name.upper())\n",
        "    else:\n",
        "        print('Hello, %s' % name)\n",
        "\n",
        "hello('Bob') \n",
        "hello('Fred', loud=True)  "
      ],
      "execution_count": null,
      "outputs": []
    },
    {
      "cell_type": "code",
      "metadata": {
        "id": "fefF_srKFpXi"
      },
      "source": [
        "class Greeter(object):\n",
        "\n",
        "    # 생성자\n",
        "    def __init__(self, name):\n",
        "        self.name = name  \n",
        "\n",
        "    # Instance method\n",
        "    def greet(self, loud=False):\n",
        "        if loud:\n",
        "            print('HELLO, %s!' % self.name.upper())\n",
        "        else:\n",
        "            print('Hello, %s' % self.name)\n",
        "\n",
        "g = Greeter('Fred')  # Construct an instance of the Greeter class\n",
        "g.greet()            # Call an instance method; prints \"Hello, Fred\"\n",
        "g.greet(loud=True)"
      ],
      "execution_count": null,
      "outputs": []
    },
    {
      "cell_type": "code",
      "metadata": {
        "id": "KzqStYZCFsEV"
      },
      "source": [
        "import numpy as np\n",
        "a=np.array([1,2,3])\n",
        "print(type(a))"
      ],
      "execution_count": null,
      "outputs": []
    },
    {
      "cell_type": "code",
      "metadata": {
        "id": "3ObGr1PUF9rG"
      },
      "source": [
        "print(a.shape)"
      ],
      "execution_count": null,
      "outputs": []
    },
    {
      "cell_type": "code",
      "metadata": {
        "id": "ePMhVeDuF_G2"
      },
      "source": [
        "print(a[0],a[1],a[2])"
      ],
      "execution_count": null,
      "outputs": []
    },
    {
      "cell_type": "code",
      "metadata": {
        "id": "yY-cv_4mGBI1"
      },
      "source": [
        "a[0]=5"
      ],
      "execution_count": null,
      "outputs": []
    },
    {
      "cell_type": "code",
      "metadata": {
        "id": "8n6-oBfbGCCf"
      },
      "source": [
        "print(a)"
      ],
      "execution_count": null,
      "outputs": []
    },
    {
      "cell_type": "code",
      "metadata": {
        "id": "z6gV1WSWGDbi"
      },
      "source": [
        "b=np.array([[1,2,3],[4,5,6]])"
      ],
      "execution_count": null,
      "outputs": []
    },
    {
      "cell_type": "code",
      "metadata": {
        "id": "tJTB_7JiGGpx"
      },
      "source": [
        "print(b.shape)"
      ],
      "execution_count": null,
      "outputs": []
    },
    {
      "cell_type": "code",
      "metadata": {
        "id": "IVSE3kG_GHsP"
      },
      "source": [
        "print(b[0,0],b[0,1],b[1,0])"
      ],
      "execution_count": null,
      "outputs": []
    },
    {
      "cell_type": "code",
      "metadata": {
        "id": "UgceULqGGMbm"
      },
      "source": [
        "a=np.zeros((2,2))\n",
        "print(a)"
      ],
      "execution_count": null,
      "outputs": []
    },
    {
      "cell_type": "code",
      "metadata": {
        "id": "7rWSnGf8Gac3"
      },
      "source": [
        "b=np.ones((1,2))\n",
        "print(b)"
      ],
      "execution_count": null,
      "outputs": []
    },
    {
      "cell_type": "code",
      "metadata": {
        "id": "DZGPNFHZGcni"
      },
      "source": [
        "c=np.full((2,2),7)\n",
        "print(c)"
      ],
      "execution_count": null,
      "outputs": []
    },
    {
      "cell_type": "code",
      "metadata": {
        "id": "uSIIDP3qGkmX"
      },
      "source": [
        "d=np.eye(2)\n",
        "print(d)"
      ],
      "execution_count": null,
      "outputs": []
    },
    {
      "cell_type": "code",
      "metadata": {
        "id": "mcnI7d38Gmy4"
      },
      "source": [
        "e=np.random.random((2,2))\n",
        "print(e)"
      ],
      "execution_count": null,
      "outputs": []
    },
    {
      "cell_type": "code",
      "metadata": {
        "id": "pP6LMR9_GpqX"
      },
      "source": [
        "e"
      ],
      "execution_count": null,
      "outputs": []
    },
    {
      "cell_type": "code",
      "metadata": {
        "id": "s1EXH-3cGqg1"
      },
      "source": [
        "a=np.array([[1,2,3,4],[5,6,7,8],[9,10,11,12]])"
      ],
      "execution_count": null,
      "outputs": []
    },
    {
      "cell_type": "code",
      "metadata": {
        "id": "CItLMUxcG0eZ"
      },
      "source": [
        "b=a[:2,1:3]"
      ],
      "execution_count": null,
      "outputs": []
    },
    {
      "cell_type": "code",
      "metadata": {
        "id": "q_4QGhXKG27n"
      },
      "source": [
        "print(a[0,1])"
      ],
      "execution_count": null,
      "outputs": []
    },
    {
      "cell_type": "code",
      "metadata": {
        "id": "9UVG6JcCG4bt"
      },
      "source": [
        "b[0,0]=77\n",
        "print(a[0,1])"
      ],
      "execution_count": null,
      "outputs": []
    },
    {
      "cell_type": "code",
      "metadata": {
        "id": "KhId1kuKG7Px"
      },
      "source": [
        "row_r1=a[1,:]\n",
        "row_r2=a[1:2,:]\n",
        "col_r1=a[:,1]\n",
        "col_r2=a[:,1:2]"
      ],
      "execution_count": null,
      "outputs": []
    },
    {
      "cell_type": "code",
      "metadata": {
        "id": "vxgusphzHN6o"
      },
      "source": [
        "print(row_r1,row_r1.shape)\n",
        "print(row_r2,row_r2.shape)\n",
        "print(col_r1, col_r1.shape)\n",
        "print(col_r2, col_r2.shape)"
      ],
      "execution_count": null,
      "outputs": []
    },
    {
      "cell_type": "code",
      "metadata": {
        "id": "ZWXTAdLRHSZl"
      },
      "source": [
        "a = np.array([[1,2], [3, 4], [5, 6]])"
      ],
      "execution_count": null,
      "outputs": []
    },
    {
      "cell_type": "code",
      "metadata": {
        "id": "IpZ-9XlIKeCj"
      },
      "source": [
        "print(a[[0,1,2],[0,1,0]])"
      ],
      "execution_count": null,
      "outputs": []
    },
    {
      "cell_type": "code",
      "metadata": {
        "id": "R-wnIC-7Kk71"
      },
      "source": [
        "print(np.array([a[0, 0], a[1, 1], a[2, 0]])) "
      ],
      "execution_count": null,
      "outputs": []
    },
    {
      "cell_type": "code",
      "metadata": {
        "id": "lmckS6xJLBVY"
      },
      "source": [
        "print(a[[0, 0], [1, 1]]) "
      ],
      "execution_count": null,
      "outputs": []
    },
    {
      "cell_type": "code",
      "metadata": {
        "id": "K9lvLQITLDYE"
      },
      "source": [
        "print(np.array([a[0, 1], a[0, 1]]))"
      ],
      "execution_count": null,
      "outputs": []
    },
    {
      "cell_type": "code",
      "metadata": {
        "id": "0vXUjKtBLFKj"
      },
      "source": [
        "a = np.array([[1,2,3], [4,5,6], [7,8,9], [10, 11, 12]])\n"
      ],
      "execution_count": null,
      "outputs": []
    },
    {
      "cell_type": "code",
      "metadata": {
        "id": "P8sE5aV_LHTz"
      },
      "source": [
        "print(a)"
      ],
      "execution_count": null,
      "outputs": []
    },
    {
      "cell_type": "code",
      "metadata": {
        "id": "iOPdoO1RLIxC"
      },
      "source": [
        "b=np.array([0,2,0,1])"
      ],
      "execution_count": null,
      "outputs": []
    },
    {
      "cell_type": "code",
      "metadata": {
        "id": "DbksntVRLnco"
      },
      "source": [
        "print(a[np.arange(4),b])"
      ],
      "execution_count": null,
      "outputs": []
    },
    {
      "cell_type": "code",
      "metadata": {
        "id": "qFzMF8yaLrJm"
      },
      "source": [
        "print(a)"
      ],
      "execution_count": null,
      "outputs": []
    },
    {
      "cell_type": "code",
      "metadata": {
        "id": "24ug1XbtLxh3"
      },
      "source": [
        "a = np.array([[1,2], [3, 4], [5, 6]])\n"
      ],
      "execution_count": null,
      "outputs": []
    },
    {
      "cell_type": "code",
      "metadata": {
        "id": "R4zKSU60Lzvr"
      },
      "source": [
        "bool_idx=(a>2)"
      ],
      "execution_count": null,
      "outputs": []
    },
    {
      "cell_type": "code",
      "metadata": {
        "id": "dX46yZZEL1hH"
      },
      "source": [
        "print(bool_idx)"
      ],
      "execution_count": null,
      "outputs": []
    },
    {
      "cell_type": "code",
      "metadata": {
        "id": "f049QV-ZL25n"
      },
      "source": [
        "print(a[bool_idx])"
      ],
      "execution_count": null,
      "outputs": []
    },
    {
      "cell_type": "code",
      "metadata": {
        "id": "lQ59DlklL5C_"
      },
      "source": [
        "print(a[a>2])"
      ],
      "execution_count": null,
      "outputs": []
    },
    {
      "cell_type": "code",
      "metadata": {
        "id": "dlWrNx30L6O6"
      },
      "source": [
        "x=np.array([1,2])\n",
        "print(x.dtype)"
      ],
      "execution_count": null,
      "outputs": []
    },
    {
      "cell_type": "code",
      "metadata": {
        "id": "Hc1vYw1yL_ko"
      },
      "source": [
        "x=np.array([1.0, 2.0])"
      ],
      "execution_count": null,
      "outputs": []
    },
    {
      "cell_type": "code",
      "metadata": {
        "id": "f7do9491MCiF"
      },
      "source": [
        "print(x.dtype)"
      ],
      "execution_count": null,
      "outputs": []
    },
    {
      "cell_type": "code",
      "metadata": {
        "id": "opw_Ec9dMELi"
      },
      "source": [
        "x=np.array([1,2],dtype=np.int64)\n",
        "print(x.dtype)"
      ],
      "execution_count": null,
      "outputs": []
    },
    {
      "cell_type": "code",
      "metadata": {
        "id": "bzAMjsHxMKOr"
      },
      "source": [
        "x = np.array([[1,2],[3,4]], dtype=np.float64)\n",
        "y = np.array([[5,6],[7,8]], dtype=np.float64)"
      ],
      "execution_count": null,
      "outputs": []
    },
    {
      "cell_type": "code",
      "metadata": {
        "id": "b10qno5LMRXW"
      },
      "source": [
        "print(x+y)"
      ],
      "execution_count": null,
      "outputs": []
    },
    {
      "cell_type": "code",
      "metadata": {
        "id": "aAbAE8s4MShA"
      },
      "source": [
        "print(np.add(x,y))"
      ],
      "execution_count": null,
      "outputs": []
    },
    {
      "cell_type": "code",
      "metadata": {
        "id": "f0pvRH-0MUAq"
      },
      "source": [
        "print(x-y)\n",
        "print(np.subtract(x,y))"
      ],
      "execution_count": null,
      "outputs": []
    },
    {
      "cell_type": "code",
      "metadata": {
        "id": "ZE5XT88RMXct"
      },
      "source": [
        "print(x*y)\n",
        "print(np.multiply(x,y))"
      ],
      "execution_count": null,
      "outputs": []
    },
    {
      "cell_type": "code",
      "metadata": {
        "id": "pC4y75YOMbFU"
      },
      "source": [
        "print(x/y)\n",
        "print(np.divide(x,y))"
      ],
      "execution_count": null,
      "outputs": []
    },
    {
      "cell_type": "code",
      "metadata": {
        "id": "RKhC3MN5MfLZ"
      },
      "source": [
        "print(np.sqrt(x))"
      ],
      "execution_count": null,
      "outputs": []
    },
    {
      "cell_type": "code",
      "metadata": {
        "id": "l8-HY3XRMiVN"
      },
      "source": [
        "x = np.array([[1,2],[3,4]])\n",
        "y = np.array([[5,6],[7,8]])\n",
        "\n",
        "v = np.array([9,10])\n",
        "w = np.array([11, 12])\n"
      ],
      "execution_count": null,
      "outputs": []
    },
    {
      "cell_type": "code",
      "metadata": {
        "id": "A-839AUBQDCQ"
      },
      "source": [
        "print(v.dot(w))\n",
        "print(np.dot(v,w))"
      ],
      "execution_count": null,
      "outputs": []
    },
    {
      "cell_type": "code",
      "metadata": {
        "id": "PGt5AmjqQHRp"
      },
      "source": [
        "print(x.dot(y))\n",
        "print(np.dot(x,y))"
      ],
      "execution_count": null,
      "outputs": []
    },
    {
      "cell_type": "code",
      "metadata": {
        "id": "bzezgOxwQLVx"
      },
      "source": [
        "print(x.dot(v))\n",
        "print(np.dot(x,y))"
      ],
      "execution_count": null,
      "outputs": []
    },
    {
      "cell_type": "code",
      "metadata": {
        "id": "OrHpysNdQPPm"
      },
      "source": [
        "x = np.array([[1,2],[3,4]])\n",
        "print(np.sum(x))\n",
        "print(np.sum(x,axis=0))\n",
        "print(np.sum(x,axis=1))"
      ],
      "execution_count": null,
      "outputs": []
    },
    {
      "cell_type": "code",
      "metadata": {
        "id": "0OuX8SKuQXJb"
      },
      "source": [
        "x = np.array([[1,2], [3,4]])"
      ],
      "execution_count": null,
      "outputs": []
    },
    {
      "cell_type": "code",
      "metadata": {
        "id": "evoXF1pHQY12"
      },
      "source": [
        "print(x)"
      ],
      "execution_count": null,
      "outputs": []
    },
    {
      "cell_type": "code",
      "metadata": {
        "id": "R8gJ4fL3QZjg"
      },
      "source": [
        "print(x.T)"
      ],
      "execution_count": null,
      "outputs": []
    },
    {
      "cell_type": "code",
      "metadata": {
        "id": "qBuuyeLEQal0"
      },
      "source": [
        "v=np.array([1,2,3])"
      ],
      "execution_count": null,
      "outputs": []
    },
    {
      "cell_type": "code",
      "metadata": {
        "id": "BnmAV02WQceE"
      },
      "source": [
        "print(v)"
      ],
      "execution_count": null,
      "outputs": []
    },
    {
      "cell_type": "code",
      "metadata": {
        "id": "Woo070KCQdm9"
      },
      "source": [
        "print(v.T)"
      ],
      "execution_count": null,
      "outputs": []
    },
    {
      "cell_type": "code",
      "metadata": {
        "id": "y4GGPAwVQeZH"
      },
      "source": [
        "x = np.array([[1,2,3], [4,5,6], [7,8,9], [10, 11, 12]])\n",
        "v = np.array([1, 0, 1])"
      ],
      "execution_count": null,
      "outputs": []
    },
    {
      "cell_type": "code",
      "metadata": {
        "id": "gVtjkQIhQhbT"
      },
      "source": [
        "vv=np.tile(v,(4,1))"
      ],
      "execution_count": null,
      "outputs": []
    },
    {
      "cell_type": "code",
      "metadata": {
        "id": "A-AeNT2vQjke"
      },
      "source": [
        "print(vv)"
      ],
      "execution_count": null,
      "outputs": []
    },
    {
      "cell_type": "code",
      "metadata": {
        "id": "MfkHdR45Qk_z"
      },
      "source": [
        "y=x+vv"
      ],
      "execution_count": null,
      "outputs": []
    },
    {
      "cell_type": "code",
      "metadata": {
        "id": "qoScc0FxQm1n"
      },
      "source": [
        "print(y)"
      ],
      "execution_count": null,
      "outputs": []
    },
    {
      "cell_type": "code",
      "metadata": {
        "id": "Nu1-mQVRQnqI"
      },
      "source": [
        "x = np.array([[1,2,3], [4,5,6], [7,8,9], [10, 11, 12]])\n",
        "v = np.array([1, 0, 1])"
      ],
      "execution_count": null,
      "outputs": []
    },
    {
      "cell_type": "code",
      "metadata": {
        "id": "hsJxD0BGQpTL"
      },
      "source": [
        "y=x+v"
      ],
      "execution_count": null,
      "outputs": []
    },
    {
      "cell_type": "code",
      "metadata": {
        "id": "zgG26m-kQqJP"
      },
      "source": [
        "print(y)"
      ],
      "execution_count": null,
      "outputs": []
    },
    {
      "cell_type": "code",
      "metadata": {
        "id": "DnDO6UWgQrey"
      },
      "source": [
        "v=np.array([1,2,3])\n",
        "w=np.array([4,5])"
      ],
      "execution_count": null,
      "outputs": []
    },
    {
      "cell_type": "code",
      "metadata": {
        "id": "_rgMUONXQxPV"
      },
      "source": [
        "print(np.reshape(v,(3,1))*w)"
      ],
      "execution_count": null,
      "outputs": []
    },
    {
      "cell_type": "code",
      "metadata": {
        "id": "xliYebBbQ0P5"
      },
      "source": [
        "x=np.array([[1,2,3],[4,5,6]])"
      ],
      "execution_count": null,
      "outputs": []
    },
    {
      "cell_type": "code",
      "metadata": {
        "id": "diNMiZ5xQ3_E"
      },
      "source": [
        "print(x+v)"
      ],
      "execution_count": null,
      "outputs": []
    },
    {
      "cell_type": "code",
      "metadata": {
        "id": "jRFXJi_ZQ6E0"
      },
      "source": [
        "print((x.T+w).T)"
      ],
      "execution_count": null,
      "outputs": []
    },
    {
      "cell_type": "code",
      "metadata": {
        "id": "pVg7dsz8Q-mL"
      },
      "source": [
        "print(x+np.reshape(w,(2,1)))"
      ],
      "execution_count": null,
      "outputs": []
    },
    {
      "cell_type": "code",
      "metadata": {
        "id": "ekomz2NlRCbm"
      },
      "source": [
        "print(x*2)"
      ],
      "execution_count": null,
      "outputs": []
    },
    {
      "cell_type": "code",
      "metadata": {
        "id": "KTdWsxzYRr7H"
      },
      "source": [
        "!pip install Pillow\n",
        "!sudo pip install Pillow==2.6.0"
      ],
      "execution_count": null,
      "outputs": []
    },
    {
      "cell_type": "code",
      "metadata": {
        "id": "57oAyMsDREFY"
      },
      "source": [
        "import numpy as np\n",
        "import cv2 #openCV package\n",
        "from google.colab.patches import cv2_imshow\n",
        "img = imread('/content/drive/MyDrive/EURON/Week1/cat.jpg')\n",
        "print(img.dtype, img.shape) "
      ],
      "execution_count": null,
      "outputs": []
    },
    {
      "cell_type": "code",
      "metadata": {
        "id": "FPc5SD3nRHAB"
      },
      "source": [
        "img_tinted = img * [1, 0.95, 0.9]\n",
        "\n",
        "# Resize the tinted image to be 300 by 300 pixels.\n",
        "img_tinted = cv2.resize(img, (300, 300))\n",
        "\n",
        "# Write the tinted image back to disk\n",
        "cv2.imwrite('/content/drive/MyDrive/EURON/Week1/cat_tinted.jpg', img_tinted)"
      ],
      "execution_count": null,
      "outputs": []
    },
    {
      "cell_type": "code",
      "metadata": {
        "id": "vYCkchYkRb7v"
      },
      "source": [
        "import numpy as np\n",
        "from scipy.spatial.distance import pdist, squareform"
      ],
      "execution_count": null,
      "outputs": []
    },
    {
      "cell_type": "code",
      "metadata": {
        "id": "rdN11ItnTvWj"
      },
      "source": [
        "x = np.array([[0, 1], [1, 0], [2, 0]])\n",
        "print(x)"
      ],
      "execution_count": null,
      "outputs": []
    },
    {
      "cell_type": "code",
      "metadata": {
        "id": "oq4_6BKoTxJV"
      },
      "source": [
        "d = squareform(pdist(x, 'euclidean'))\n",
        "print(d)"
      ],
      "execution_count": null,
      "outputs": []
    },
    {
      "cell_type": "code",
      "metadata": {
        "id": "Ncj2K8LkTzqh"
      },
      "source": [
        "import matplotlib.pyplot as plt\n",
        "\n",
        "x=np.arange(0,3*np.pi,0.1)\n",
        "y=np.sin(x)\n",
        "plt.plot(x,y)\n",
        "plt.show()"
      ],
      "execution_count": null,
      "outputs": []
    },
    {
      "cell_type": "code",
      "metadata": {
        "id": "MwWYb41bUFow"
      },
      "source": [
        "x = np.arange(0, 3 * np.pi, 0.1)\n",
        "y_sin = np.sin(x)\n",
        "y_cos = np.cos(x)\n"
      ],
      "execution_count": null,
      "outputs": []
    },
    {
      "cell_type": "code",
      "metadata": {
        "id": "3VEzszFiULl2"
      },
      "source": [
        "plt.plot(x, y_sin)\n",
        "plt.plot(x, y_cos)\n",
        "plt.xlabel('x axis label')\n",
        "plt.ylabel('y axis label')\n",
        "plt.title('Sine and Cosine')\n",
        "plt.legend(['Sine', 'Cosine'])\n",
        "plt.show()"
      ],
      "execution_count": null,
      "outputs": []
    },
    {
      "cell_type": "code",
      "metadata": {
        "id": "tIJdHMVgUN5N"
      },
      "source": [
        "x = np.arange(0, 3 * np.pi, 0.1)\n",
        "y_sin = np.sin(x)\n",
        "y_cos = np.cos(x)"
      ],
      "execution_count": null,
      "outputs": []
    },
    {
      "cell_type": "code",
      "metadata": {
        "id": "gLn5Py_YUQmK"
      },
      "source": [
        "plt.subplot(2,1,1)"
      ],
      "execution_count": null,
      "outputs": []
    },
    {
      "cell_type": "code",
      "metadata": {
        "id": "XrO9pkycUTR4"
      },
      "source": [
        "plt.plot(x,y_sin)\n",
        "plt.title('Sine')\n",
        "\n",
        "plt.subplot(2,1,2)\n",
        "plt.plot(x,y_cos)\n",
        "plt.title('Cosine')\n",
        "\n",
        "plt.show()"
      ],
      "execution_count": null,
      "outputs": []
    },
    {
      "cell_type": "code",
      "metadata": {
        "id": "kByZDa3ZUfDe"
      },
      "source": [
        "\n",
        "img = imread('/content/drive/MyDrive/EURON/Week1/cat.jpg')\n",
        "img_tinted = img * [1, 0.95, 0.9]\n",
        "\n",
        "# Show the original image\n",
        "plt.subplot(1, 2, 1)\n",
        "plt.imshow(img)\n",
        "\n",
        "# Show the tinted image\n",
        "plt.subplot(1, 2, 2)"
      ],
      "execution_count": null,
      "outputs": []
    },
    {
      "cell_type": "code",
      "metadata": {
        "id": "oTZxT6ZvUul6"
      },
      "source": [
        ""
      ],
      "execution_count": null,
      "outputs": []
    }
  ]
}